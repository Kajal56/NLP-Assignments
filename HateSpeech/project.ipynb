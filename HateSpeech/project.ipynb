{
  "cells": [
    {
      "cell_type": "code",
      "execution_count": null,
      "metadata": {
        "colab": {
          "base_uri": "https://localhost:8080/"
        },
        "id": "ZdHh9h01EM5i",
        "outputId": "dd506685-c926-4a94-c90e-4824138d364c"
      },
      "outputs": [
        {
          "output_type": "stream",
          "name": "stderr",
          "text": [
            "[nltk_data] Downloading package brown to /root/nltk_data...\n",
            "[nltk_data]   Unzipping corpora/brown.zip.\n",
            "[nltk_data] Downloading package universal_tagset to /root/nltk_data...\n",
            "[nltk_data]   Unzipping taggers/universal_tagset.zip.\n"
          ]
        }
      ],
      "source": [
        "##importing necessary libraries and the train data\n",
        "import nltk\n",
        "import numpy as np\n",
        "import pandas as pd\n",
        "from sklearn.model_selection import train_test_split\n",
        "from sklearn.model_selection import KFold\n",
        "from tensorflow.keras.preprocessing.text import Tokenizer\n",
        "from tensorflow.keras.preprocessing.sequence import pad_sequences\n",
        "from tensorflow.keras import utils\n",
        "from matplotlib import pyplot as plt\n",
        "import seaborn as sns\n",
        "import  time\n",
        "##import warnings\n",
        "##warnings.filterwarnings(action = 'ignore')\n",
        "import gensim\n",
        "from gensim.models import KeyedVectors\n",
        "from gensim.models import Word2Vec\n",
        "nltk.download('brown')\n",
        "nltk.download('universal_tagset')\n",
        "from nltk.corpus import brown\n",
        "brown_tagged =brown.tagged_sents( tagset='universal')"
      ]
    },
    {
      "cell_type": "code",
      "execution_count": null,
      "metadata": {
        "id": "tredQIX2E3Sy"
      },
      "outputs": [],
      "source": [
        "brown_train,brown_test =train_test_split(brown_tagged,train_size=0.80,test_size=0.20,random_state = 102)\n",
        "brown_tagged_words=[]\n",
        "brown_tagged_tags=[]\n",
        "for sentence in brown_tagged:\n",
        "  word_sentence=[]\n",
        "  tag_sentence=[]\n",
        "  for words in sentence:\n",
        "    word_sentence.append(words[0])\n",
        "    tag_sentence.append(words[1])\n",
        "  brown_tagged_words.append(word_sentence)\n",
        "  brown_tagged_tags.append(tag_sentence)\n"
      ]
    },
    {
      "cell_type": "code",
      "execution_count": null,
      "metadata": {
        "colab": {
          "base_uri": "https://localhost:8080/"
        },
        "id": "Gr7Z7rQSgip3",
        "outputId": "21126ad8-04ae-476b-ad9f-325f74150223"
      },
      "outputs": [
        {
          "output_type": "stream",
          "name": "stdout",
          "text": [
            "['The', 'Fulton', 'County', 'Grand', 'Jury', 'said', 'Friday', 'an', 'investigation', 'of', \"Atlanta's\", 'recent', 'primary', 'election', 'produced', '``', 'no', 'evidence', \"''\", 'that', 'any', 'irregularities', 'took', 'place', '.'] ['DET', 'NOUN', 'VERB', 'PRON', 'VERB', 'DET', 'NOUN', '.', 'VERB', 'VERB', 'ADP', 'DET', 'VERB', 'NOUN', 'DET', 'NOUN', '.', 'ADP', 'NUM', 'ADJ', 'ADJ', 'NOUN', '.', 'DET', 'NOUN', 'NOUN', 'NOUN', 'CONJ', 'DET', 'NOUN', 'NOUN', 'NOUN', '.']\n"
          ]
        }
      ],
      "source": [
        "print(brown_tagged_words[0],brown_tagged_tags[20])"
      ]
    },
    {
      "cell_type": "code",
      "execution_count": null,
      "metadata": {
        "id": "cMUnYFMXIW9Q",
        "colab": {
          "base_uri": "https://localhost:8080/"
        },
        "outputId": "0d4f2e5b-c390-427b-c070-8c3d4b94e252"
      },
      "outputs": [
        {
          "output_type": "stream",
          "name": "stdout",
          "text": [
            "8 10 11 6\n"
          ]
        }
      ],
      "source": [
        "##encoding the words and tags to unique numbers because nn will work with numbers\n",
        "'''det =5\n",
        "   noun=1\n",
        "   adv = 7\n",
        "   verb =2\n",
        "   adp=4\n",
        "   adj=6\n",
        "   .=3\n",
        "   conj=9\n",
        "   pron=8\n",
        "   prt=10\n",
        "   num=11\n",
        "   x=12'''\n",
        "word_tokenizer = Tokenizer()\n",
        "word_tokenizer.fit_on_texts(brown_tagged_words)\n",
        "brown_tagged_words_encoded = word_tokenizer.texts_to_sequences(brown_tagged_words)\n",
        "\n",
        "tag_tokenizer = Tokenizer()\n",
        "tag_tokenizer.fit_on_texts(brown_tagged_tags)\n",
        "brown_tagged_tags_encoded = tag_tokenizer.texts_to_sequences(brown_tagged_tags)\n",
        "print(brown_tagged_tags_encoded[5][0],brown_tagged_tags_encoded[5][7],brown_tagged_tags_encoded[20][18],brown_tagged_tags_encoded[1][10])"
      ]
    },
    {
      "cell_type": "code",
      "source": [
        "print(brown_tagged_tags_encoded[20][0],brown_tagged_tags_encoded[20][5],brown_tagged_tags_encoded[20][18],brown_tagged_tags_encoded[1][10])"
      ],
      "metadata": {
        "colab": {
          "base_uri": "https://localhost:8080/"
        },
        "id": "w6uqGca8iKXi",
        "outputId": "e95eb1fe-652b-47b1-8217-45ec6150eeb4"
      },
      "execution_count": null,
      "outputs": [
        {
          "output_type": "stream",
          "name": "stdout",
          "text": [
            "5 5 11 6\n"
          ]
        }
      ]
    },
    {
      "cell_type": "code",
      "execution_count": null,
      "metadata": {
        "id": "04rZPFVKJSik"
      },
      "outputs": [],
      "source": []
    },
    {
      "cell_type": "code",
      "execution_count": null,
      "metadata": {
        "colab": {
          "base_uri": "https://localhost:8080/",
          "height": 337
        },
        "id": "14D0-zz-Jd2R",
        "outputId": "d7dc5834-ad84-44ce-fd13-bf1474bf8619",
        "scrolled": true
      },
      "outputs": [
        {
          "output_type": "stream",
          "name": "stdout",
          "text": [
            "Length of longest sentence: 180\n"
          ]
        },
        {
          "output_type": "stream",
          "name": "stderr",
          "text": [
            "/usr/local/lib/python3.7/dist-packages/seaborn/_decorators.py:43: FutureWarning: Pass the following variable as a keyword arg: x. From version 0.12, the only valid positional argument will be `data`, and passing other arguments without an explicit keyword will result in an error or misinterpretation.\n",
            "  FutureWarning\n"
          ]
        },
        {
          "output_type": "display_data",
          "data": {
            "text/plain": [
              "<Figure size 432x288 with 1 Axes>"
            ],
            "image/png": "[encoded data removed]"
          },
          "metadata": {
            "needs_background": "light"
          }
        }
      ],
      "source": [
        "## we will pad now\n",
        "lengths = [len(seq) for seq in brown_tagged_words_encoded]\n",
        "print(\"Length of longest sentence: {}\".format(max(lengths)))\n",
        "sns.boxplot(lengths)\n",
        "plt.show()"
      ]
    },
    {
      "cell_type": "code",
      "execution_count": null,
      "metadata": {
        "id": "BqI7NngxJ78M",
        "colab": {
          "base_uri": "https://localhost:8080/"
        },
        "outputId": "3a31bec0-3879-4b44-fd31-fc261508723a"
      },
      "outputs": [
        {
          "output_type": "stream",
          "name": "stdout",
          "text": [
            "[0 0 0 0 0 0 0 0 0 0 0 0 0 0 0 0 0 0 0 0 0 0 0 0 0 0 0 0 0 0 0 0 0 0 0 0 0\n",
            " 0 0 0 0 0 0 0 0 0 0 0 0 0 0 0 0 0 0 0 0 0 0 0 0 0 0 0 0 0 0 0 0 0 0 0 0 0\n",
            " 0 5 1 1 6 1 2 1 5 1 4 1 6 1 1 2 3 5 1 3 4 5 1 2 1 3]\n"
          ]
        }
      ],
      "source": [
        "MAX_SEQ_LENGTH = 100\n",
        "brown_tagged_words_padded = pad_sequences(brown_tagged_words_encoded, maxlen=MAX_SEQ_LENGTH, padding=\"pre\", truncating=\"post\")\n",
        "brown_tagged_tags_padded = pad_sequences(brown_tagged_tags_encoded, maxlen=MAX_SEQ_LENGTH, padding=\"pre\", truncating=\"post\")\n",
        "print(brown_tagged_tags_padded[0])"
      ]
    },
    {
      "cell_type": "markdown",
      "metadata": {
        "id": "kwQNJAtXMl2k"
      },
      "source": [
        "Implementing word2vector"
      ]
    },
    {
      "cell_type": "code",
      "execution_count": null,
      "metadata": {
        "colab": {
          "base_uri": "https://localhost:8080/",
          "height": 380
        },
        "id": "cwqw-pe6MSyK",
        "outputId": "16126add-59d1-462e-9068-3236a347caad"
      },
      "outputs": [
        {
          "output_type": "error",
          "ename": "FileNotFoundError",
          "evalue": "ignored",
          "traceback": [
            "\u001b[0;31m---------------------------------------------------------------------------\u001b[0m",
            "\u001b[0;31mFileNotFoundError\u001b[0m                         Traceback (most recent call last)",
            "\u001b[0;32m<ipython-input-7-6ac1c0bf5355>\u001b[0m in \u001b[0;36m<module>\u001b[0;34m\u001b[0m\n\u001b[1;32m      1\u001b[0m \u001b[0mpath\u001b[0m \u001b[0;34m=\u001b[0m \u001b[0;34m\"GoogleNews-vectors-negative300/GoogleNews-vectors-negative300.bin\"\u001b[0m\u001b[0;34m\u001b[0m\u001b[0;34m\u001b[0m\u001b[0m\n\u001b[0;32m----> 2\u001b[0;31m \u001b[0mword2vec\u001b[0m\u001b[0;34m=\u001b[0m \u001b[0mKeyedVectors\u001b[0m\u001b[0;34m.\u001b[0m\u001b[0mload_word2vec_format\u001b[0m\u001b[0;34m(\u001b[0m\u001b[0mpath\u001b[0m\u001b[0;34m,\u001b[0m \u001b[0mbinary\u001b[0m\u001b[0;34m=\u001b[0m\u001b[0;32mTrue\u001b[0m\u001b[0;34m)\u001b[0m\u001b[0;34m\u001b[0m\u001b[0;34m\u001b[0m\u001b[0m\n\u001b[0m\u001b[1;32m      3\u001b[0m \u001b[0mEMBEDDING_SIZE\u001b[0m  \u001b[0;34m=\u001b[0m \u001b[0;36m300\u001b[0m\u001b[0;34m\u001b[0m\u001b[0;34m\u001b[0m\u001b[0m\n\u001b[1;32m      4\u001b[0m \u001b[0mVOCABULARY_SIZE\u001b[0m \u001b[0;34m=\u001b[0m \u001b[0mlen\u001b[0m\u001b[0;34m(\u001b[0m\u001b[0mword_tokenizer\u001b[0m\u001b[0;34m.\u001b[0m\u001b[0mword_index\u001b[0m\u001b[0;34m)\u001b[0m \u001b[0;34m+\u001b[0m \u001b[0;36m1\u001b[0m\u001b[0;34m\u001b[0m\u001b[0;34m\u001b[0m\u001b[0m\n\u001b[1;32m      5\u001b[0m \u001b[0membedding_weights\u001b[0m \u001b[0;34m=\u001b[0m \u001b[0mnp\u001b[0m\u001b[0;34m.\u001b[0m\u001b[0mzeros\u001b[0m\u001b[0;34m(\u001b[0m\u001b[0;34m(\u001b[0m\u001b[0mVOCABULARY_SIZE\u001b[0m\u001b[0;34m,\u001b[0m \u001b[0mEMBEDDING_SIZE\u001b[0m\u001b[0;34m)\u001b[0m\u001b[0;34m)\u001b[0m\u001b[0;34m\u001b[0m\u001b[0;34m\u001b[0m\u001b[0m\n",
            "\u001b[0;32m/usr/local/lib/python3.7/dist-packages/gensim/models/keyedvectors.py\u001b[0m in \u001b[0;36mload_word2vec_format\u001b[0;34m(cls, fname, fvocab, binary, encoding, unicode_errors, limit, datatype)\u001b[0m\n\u001b[1;32m   1436\u001b[0m         return _load_word2vec_format(\n\u001b[1;32m   1437\u001b[0m             \u001b[0mcls\u001b[0m\u001b[0;34m,\u001b[0m \u001b[0mfname\u001b[0m\u001b[0;34m,\u001b[0m \u001b[0mfvocab\u001b[0m\u001b[0;34m=\u001b[0m\u001b[0mfvocab\u001b[0m\u001b[0;34m,\u001b[0m \u001b[0mbinary\u001b[0m\u001b[0;34m=\u001b[0m\u001b[0mbinary\u001b[0m\u001b[0;34m,\u001b[0m \u001b[0mencoding\u001b[0m\u001b[0;34m=\u001b[0m\u001b[0mencoding\u001b[0m\u001b[0;34m,\u001b[0m \u001b[0municode_errors\u001b[0m\u001b[0;34m=\u001b[0m\u001b[0municode_errors\u001b[0m\u001b[0;34m,\u001b[0m\u001b[0;34m\u001b[0m\u001b[0;34m\u001b[0m\u001b[0m\n\u001b[0;32m-> 1438\u001b[0;31m             limit=limit, datatype=datatype)\n\u001b[0m\u001b[1;32m   1439\u001b[0m \u001b[0;34m\u001b[0m\u001b[0m\n\u001b[1;32m   1440\u001b[0m     \u001b[0;32mdef\u001b[0m \u001b[0mget_keras_embedding\u001b[0m\u001b[0;34m(\u001b[0m\u001b[0mself\u001b[0m\u001b[0;34m,\u001b[0m \u001b[0mtrain_embeddings\u001b[0m\u001b[0;34m=\u001b[0m\u001b[0;32mFalse\u001b[0m\u001b[0;34m)\u001b[0m\u001b[0;34m:\u001b[0m\u001b[0;34m\u001b[0m\u001b[0;34m\u001b[0m\u001b[0m\n",
            "\u001b[0;32m/usr/local/lib/python3.7/dist-packages/gensim/models/utils_any2vec.py\u001b[0m in \u001b[0;36m_load_word2vec_format\u001b[0;34m(cls, fname, fvocab, binary, encoding, unicode_errors, limit, datatype)\u001b[0m\n\u001b[1;32m    169\u001b[0m \u001b[0;34m\u001b[0m\u001b[0m\n\u001b[1;32m    170\u001b[0m     \u001b[0mlogger\u001b[0m\u001b[0;34m.\u001b[0m\u001b[0minfo\u001b[0m\u001b[0;34m(\u001b[0m\u001b[0;34m\"loading projection weights from %s\"\u001b[0m\u001b[0;34m,\u001b[0m \u001b[0mfname\u001b[0m\u001b[0;34m)\u001b[0m\u001b[0;34m\u001b[0m\u001b[0;34m\u001b[0m\u001b[0m\n\u001b[0;32m--> 171\u001b[0;31m     \u001b[0;32mwith\u001b[0m \u001b[0mutils\u001b[0m\u001b[0;34m.\u001b[0m\u001b[0msmart_open\u001b[0m\u001b[0;34m(\u001b[0m\u001b[0mfname\u001b[0m\u001b[0;34m)\u001b[0m \u001b[0;32mas\u001b[0m \u001b[0mfin\u001b[0m\u001b[0;34m:\u001b[0m\u001b[0;34m\u001b[0m\u001b[0;34m\u001b[0m\u001b[0m\n\u001b[0m\u001b[1;32m    172\u001b[0m         \u001b[0mheader\u001b[0m \u001b[0;34m=\u001b[0m \u001b[0mutils\u001b[0m\u001b[0;34m.\u001b[0m\u001b[0mto_unicode\u001b[0m\u001b[0;34m(\u001b[0m\u001b[0mfin\u001b[0m\u001b[0;34m.\u001b[0m\u001b[0mreadline\u001b[0m\u001b[0;34m(\u001b[0m\u001b[0;34m)\u001b[0m\u001b[0;34m,\u001b[0m \u001b[0mencoding\u001b[0m\u001b[0;34m=\u001b[0m\u001b[0mencoding\u001b[0m\u001b[0;34m)\u001b[0m\u001b[0;34m\u001b[0m\u001b[0;34m\u001b[0m\u001b[0m\n\u001b[1;32m    173\u001b[0m         \u001b[0mvocab_size\u001b[0m\u001b[0;34m,\u001b[0m \u001b[0mvector_size\u001b[0m \u001b[0;34m=\u001b[0m \u001b[0;34m(\u001b[0m\u001b[0mint\u001b[0m\u001b[0;34m(\u001b[0m\u001b[0mx\u001b[0m\u001b[0;34m)\u001b[0m \u001b[0;32mfor\u001b[0m \u001b[0mx\u001b[0m \u001b[0;32min\u001b[0m \u001b[0mheader\u001b[0m\u001b[0;34m.\u001b[0m\u001b[0msplit\u001b[0m\u001b[0;34m(\u001b[0m\u001b[0;34m)\u001b[0m\u001b[0;34m)\u001b[0m  \u001b[0;31m# throws for invalid file format\u001b[0m\u001b[0;34m\u001b[0m\u001b[0;34m\u001b[0m\u001b[0m\n",
            "\u001b[0;32m/usr/local/lib/python3.7/dist-packages/smart_open/smart_open_lib.py\u001b[0m in \u001b[0;36msmart_open\u001b[0;34m(***failed resolving arguments***)\u001b[0m\n\u001b[1;32m    496\u001b[0m     \u001b[0mignore_ext\u001b[0m \u001b[0;34m=\u001b[0m \u001b[0mignore_extension\u001b[0m\u001b[0;34m\u001b[0m\u001b[0;34m\u001b[0m\u001b[0m\n\u001b[1;32m    497\u001b[0m     \u001b[0;32mdel\u001b[0m \u001b[0mkwargs\u001b[0m\u001b[0;34m,\u001b[0m \u001b[0murl\u001b[0m\u001b[0;34m,\u001b[0m \u001b[0mmessage\u001b[0m\u001b[0;34m,\u001b[0m \u001b[0mignore_extension\u001b[0m\u001b[0;34m\u001b[0m\u001b[0;34m\u001b[0m\u001b[0m\n\u001b[0;32m--> 498\u001b[0;31m     \u001b[0;32mreturn\u001b[0m \u001b[0mopen\u001b[0m\u001b[0;34m(\u001b[0m\u001b[0;34m**\u001b[0m\u001b[0mlocals\u001b[0m\u001b[0;34m(\u001b[0m\u001b[0;34m)\u001b[0m\u001b[0;34m)\u001b[0m\u001b[0;34m\u001b[0m\u001b[0;34m\u001b[0m\u001b[0m\n\u001b[0m\u001b[1;32m    499\u001b[0m \u001b[0;34m\u001b[0m\u001b[0m\n\u001b[1;32m    500\u001b[0m \u001b[0;34m\u001b[0m\u001b[0m\n",
            "\u001b[0;32m/usr/local/lib/python3.7/dist-packages/smart_open/smart_open_lib.py\u001b[0m in \u001b[0;36mopen\u001b[0;34m(uri, mode, buffering, encoding, errors, newline, closefd, opener, ignore_ext, compression, transport_params)\u001b[0m\n\u001b[1;32m    193\u001b[0m         \u001b[0mencoding\u001b[0m\u001b[0;34m=\u001b[0m\u001b[0mencoding\u001b[0m\u001b[0;34m,\u001b[0m\u001b[0;34m\u001b[0m\u001b[0;34m\u001b[0m\u001b[0m\n\u001b[1;32m    194\u001b[0m         \u001b[0merrors\u001b[0m\u001b[0;34m=\u001b[0m\u001b[0merrors\u001b[0m\u001b[0;34m,\u001b[0m\u001b[0;34m\u001b[0m\u001b[0;34m\u001b[0m\u001b[0m\n\u001b[0;32m--> 195\u001b[0;31m         \u001b[0mnewline\u001b[0m\u001b[0;34m=\u001b[0m\u001b[0mnewline\u001b[0m\u001b[0;34m,\u001b[0m\u001b[0;34m\u001b[0m\u001b[0;34m\u001b[0m\u001b[0m\n\u001b[0m\u001b[1;32m    196\u001b[0m     )\n\u001b[1;32m    197\u001b[0m     \u001b[0;32mif\u001b[0m \u001b[0mfobj\u001b[0m \u001b[0;32mis\u001b[0m \u001b[0;32mnot\u001b[0m \u001b[0;32mNone\u001b[0m\u001b[0;34m:\u001b[0m\u001b[0;34m\u001b[0m\u001b[0;34m\u001b[0m\u001b[0m\n",
            "\u001b[0;32m/usr/local/lib/python3.7/dist-packages/smart_open/smart_open_lib.py\u001b[0m in \u001b[0;36m_shortcut_open\u001b[0;34m(uri, mode, compression, buffering, encoding, errors, newline)\u001b[0m\n\u001b[1;32m    359\u001b[0m         \u001b[0mopen_kwargs\u001b[0m\u001b[0;34m[\u001b[0m\u001b[0;34m'errors'\u001b[0m\u001b[0;34m]\u001b[0m \u001b[0;34m=\u001b[0m \u001b[0merrors\u001b[0m\u001b[0;34m\u001b[0m\u001b[0;34m\u001b[0m\u001b[0m\n\u001b[1;32m    360\u001b[0m \u001b[0;34m\u001b[0m\u001b[0m\n\u001b[0;32m--> 361\u001b[0;31m     \u001b[0;32mreturn\u001b[0m \u001b[0m_builtin_open\u001b[0m\u001b[0;34m(\u001b[0m\u001b[0mlocal_path\u001b[0m\u001b[0;34m,\u001b[0m \u001b[0mmode\u001b[0m\u001b[0;34m,\u001b[0m \u001b[0mbuffering\u001b[0m\u001b[0;34m=\u001b[0m\u001b[0mbuffering\u001b[0m\u001b[0;34m,\u001b[0m \u001b[0;34m**\u001b[0m\u001b[0mopen_kwargs\u001b[0m\u001b[0;34m)\u001b[0m\u001b[0;34m\u001b[0m\u001b[0;34m\u001b[0m\u001b[0m\n\u001b[0m\u001b[1;32m    362\u001b[0m \u001b[0;34m\u001b[0m\u001b[0m\n\u001b[1;32m    363\u001b[0m \u001b[0;34m\u001b[0m\u001b[0m\n",
            "\u001b[0;31mFileNotFoundError\u001b[0m: [Errno 2] No such file or directory: 'GoogleNews-vectors-negative300/GoogleNews-vectors-negative300.bin'"
          ]
        }
      ],
      "source": [
        "path = \"GoogleNews-vectors-negative300/GoogleNews-vectors-negative300.bin\"\n",
        "word2vec= KeyedVectors.load_word2vec_format(path, binary=True)\n",
        "EMBEDDING_SIZE  = 300\n",
        "VOCABULARY_SIZE = len(word_tokenizer.word_index) + 1\n",
        "embedding_weights = np.zeros((VOCABULARY_SIZE, EMBEDDING_SIZE))\n",
        "word2id = word_tokenizer.word_index\n",
        "for word, index in word2id.items():\n",
        "    try:\n",
        "        embedding_weights[index, :] = word2vec[word]\n",
        "    except KeyError:\n",
        "        pass"
      ]
    },
    {
      "cell_type": "code",
      "execution_count": null,
      "metadata": {
        "colab": {
          "base_uri": "https://localhost:8080/"
        },
        "id": "ewn5x5HzgiqA",
        "outputId": "cfd01a93-154b-4f46-e61e-3b0700568907"
      },
      "outputs": [
        {
          "output_type": "stream",
          "name": "stdout",
          "text": [
            "(57340, 100)\n"
          ]
        }
      ],
      "source": [
        "print(brown_tagged_tags_padded.shape)"
      ]
    },
    {
      "cell_type": "markdown",
      "metadata": {
        "id": "F_goCjUyCmhA"
      },
      "source": [
        "One-hot representation for tags since it has less no. of tags"
      ]
    },
    {
      "cell_type": "code",
      "execution_count": null,
      "metadata": {
        "id": "g6KbPnzDCu-f"
      },
      "outputs": [],
      "source": [
        "from tensorflow.keras.utils import to_categorical\n",
        "brown_tagged_tags_padded = to_categorical(brown_tagged_tags_padded)\n",
        "#print(len(brown_tagged_tags),brown_tagged_tags_padded[0])"
      ]
    },
    {
      "cell_type": "code",
      "execution_count": null,
      "metadata": {
        "colab": {
          "base_uri": "https://localhost:8080/"
        },
        "id": "NktD2QXogiqC",
        "outputId": "cd36c224-3593-4b0e-ebad-1eba316d4c53"
      },
      "outputs": [
        {
          "output_type": "stream",
          "name": "stdout",
          "text": [
            "[0. 0. 0. 0. 0. 1. 0. 0. 0. 0. 0. 0. 0.]\n"
          ]
        }
      ],
      "source": [
        "print(brown_tagged_tags_padded[0][75])"
      ]
    },
    {
      "cell_type": "code",
      "execution_count": null,
      "metadata": {
        "colab": {
          "base_uri": "https://localhost:8080/",
          "height": 252
        },
        "id": "f_kIaOsygiqD",
        "outputId": "233f9b19-4d45-4dbf-a2a8-5f6aeee5081b"
      },
      "outputs": [
        {
          "output_type": "stream",
          "name": "stdout",
          "text": [
            "57340\n"
          ]
        },
        {
          "output_type": "error",
          "ename": "NameError",
          "evalue": "ignored",
          "traceback": [
            "\u001b[0;31m---------------------------------------------------------------------------\u001b[0m",
            "\u001b[0;31mNameError\u001b[0m                                 Traceback (most recent call last)",
            "\u001b[0;32m<ipython-input-13-9e2da0fc764b>\u001b[0m in \u001b[0;36m<module>\u001b[0;34m\u001b[0m\n\u001b[1;32m     15\u001b[0m     \u001b[0mY_test\u001b[0m \u001b[0;34m=\u001b[0m\u001b[0mbrown_tagged_tags_padded\u001b[0m\u001b[0;34m[\u001b[0m\u001b[0mfirst_part\u001b[0m\u001b[0;34m:\u001b[0m\u001b[0msecond_part\u001b[0m\u001b[0;34m]\u001b[0m\u001b[0;34m\u001b[0m\u001b[0;34m\u001b[0m\u001b[0m\n\u001b[1;32m     16\u001b[0m     \u001b[0mnetwork\u001b[0m \u001b[0;34m=\u001b[0m \u001b[0mmodels\u001b[0m\u001b[0;34m.\u001b[0m\u001b[0mSequential\u001b[0m\u001b[0;34m(\u001b[0m\u001b[0;34m)\u001b[0m \u001b[0;31m## starting the ffnn\u001b[0m\u001b[0;34m\u001b[0m\u001b[0;34m\u001b[0m\u001b[0m\n\u001b[0;32m---> 17\u001b[0;31m     network.add(Embedding(input_dim     = VOCABULARY_SIZE,\n\u001b[0m\u001b[1;32m     18\u001b[0m                              \u001b[0moutput_dim\u001b[0m    \u001b[0;34m=\u001b[0m \u001b[0mEMBEDDING_SIZE\u001b[0m\u001b[0;34m,\u001b[0m\u001b[0;34m\u001b[0m\u001b[0;34m\u001b[0m\u001b[0m\n\u001b[1;32m     19\u001b[0m                              \u001b[0minput_length\u001b[0m  \u001b[0;34m=\u001b[0m \u001b[0mMAX_SEQ_LENGTH\u001b[0m\u001b[0;34m,\u001b[0m\u001b[0;34m\u001b[0m\u001b[0;34m\u001b[0m\u001b[0m\n",
            "\u001b[0;31mNameError\u001b[0m: name 'VOCABULARY_SIZE' is not defined"
          ]
        }
      ],
      "source": [
        "from keras import models\n",
        "from keras import layers\n",
        "from tensorflow.keras.layers import Embedding\n",
        "import numpy as np\n",
        "print(len(brown_tagged_words))\n",
        "len_brown_data=len(brown_tagged_words_padded)/5\n",
        "avg_loss=0.0\n",
        "avg_acc=0.0\n",
        "for i in range(5):\n",
        "    first_part=int(i*(len_brown_data))\n",
        "    second_part=int((i+1)*len_brown_data)\n",
        "    X_train=np.concatenate((brown_tagged_words_padded[:first_part],brown_tagged_words_padded[second_part:]),axis=0)\n",
        "    X_test =brown_tagged_words_padded[first_part:second_part]\n",
        "    Y_train=np.concatenate((brown_tagged_tags_padded[:first_part],brown_tagged_tags_padded[second_part:]),axis=0)\n",
        "    Y_test =brown_tagged_tags_padded[first_part:second_part]\n",
        "    network = models.Sequential() ## starting the ffnn\n",
        "    network.add(Embedding(input_dim     = VOCABULARY_SIZE,\n",
        "                             output_dim    = EMBEDDING_SIZE,\n",
        "                             input_length  = MAX_SEQ_LENGTH,\n",
        "                             weights       = [embedding_weights],\n",
        "                             trainable     = True))\n",
        "    network.add(layers.Dense(units=100, activation='relu'))\n",
        "    network.add(layers.Dense(units=13, activation='softmax'))\n",
        "    network.compile(loss='categorical_crossentropy', # Cross-entropy\n",
        "                optimizer='rmsprop', # Root Mean Square Propagation\n",
        "                metrics=['accuracy'])\n",
        "    trainng = network.fit(X_train,Y_train,batch_size=128,epochs=10,validation_data=(X_test, Y_test))\n",
        "    loss,accuracy = network.evaluate(X_test,Y_test,verbose=1)\n",
        "    avg_loss=avg_loss+loss\n",
        "    avg_acc=avg_acc+accuracy\n",
        "avg_loss=avg_loss/5.0\n",
        "avg_acc=avg_acc/5.0\n",
        "print(avg_loss,avg_acc)\n",
        ""
      ]
    },
    {
      "cell_type": "code",
      "execution_count": null,
      "metadata": {
        "id": "icYDjyWtgiqE"
      },
      "outputs": [],
      "source": [
        "'''X_train,X_test,Y_train,Y_test=train_test_split(brown_tagged_words_padded,brown_tagged_tags_padded,test_size=0.20,random_state = 102)\n",
        "X_train,X_validation,Y_train,Y_validation=train_test_split(X_train,Y_train,test_size=0.20,random_state = 102)'''"
      ]
    },
    {
      "cell_type": "code",
      "execution_count": null,
      "metadata": {
        "id": "7lefUhALgiqF"
      },
      "outputs": [],
      "source": [
        "'''from keras import models\n",
        "from keras import layers\n",
        "from tensorflow.keras.layers import Embedding\n",
        "\n",
        "network = models.Sequential() ## starting the ffnn\n",
        "network.add(Embedding(input_dim     = VOCABULARY_SIZE,\n",
        "                             output_dim    = EMBEDDING_SIZE,\n",
        "                             input_length  = MAX_SEQ_LENGTH,\n",
        "                             weights       = [embedding_weights],\n",
        "                             trainable     = True\n",
        "))\n",
        "network.add(layers.Dense(units=100, activation='relu'))\n",
        "network.add(layers.Dense(units=13, activation='softmax'))\n",
        "\n",
        "\n",
        "'''"
      ]
    },
    {
      "cell_type": "code",
      "execution_count": null,
      "metadata": {
        "id": "d9H8SU4QgiqH"
      },
      "outputs": [],
      "source": [
        "'''network.compile(loss='categorical_crossentropy', # Cross-entropy\n",
        "                optimizer='rmsprop', # Root Mean Square Propagation\n",
        "                metrics=['accuracy'])'''"
      ]
    },
    {
      "cell_type": "code",
      "execution_count": null,
      "metadata": {
        "id": "7NEUPoxtgiqH"
      },
      "outputs": [],
      "source": [
        "'''trainng = network.fit(X_train,Y_train,batch_size=128,epochs=10,validation_data=(X_validation, Y_validation))'''"
      ]
    },
    {
      "cell_type": "code",
      "execution_count": null,
      "metadata": {
        "id": "DKACAM4LgiqI"
      },
      "outputs": [],
      "source": [
        "'''loss,accuracy = network.evaluate(X_test,Y_test,verbose=1)\n",
        "print(loss,accuracy)'''"
      ]
    },
    {
      "cell_type": "code",
      "execution_count": null,
      "metadata": {
        "id": "Jfgm6gkPgiqJ"
      },
      "outputs": [],
      "source": [
        "print(Y_test[0][0])"
      ]
    },
    {
      "cell_type": "code",
      "execution_count": null,
      "metadata": {
        "id": "DTm3THkvgiqK"
      },
      "outputs": [],
      "source": [
        "print(X_test[0].shape)"
      ]
    },
    {
      "cell_type": "code",
      "execution_count": null,
      "metadata": {
        "id": "xq1xLdZVgiqK"
      },
      "outputs": [],
      "source": [
        "sentence=input()"
      ]
    },
    {
      "cell_type": "code",
      "execution_count": null,
      "metadata": {
        "id": "OpUTnfo3giqK"
      },
      "outputs": [],
      "source": [
        "import tensorflow as tf\n",
        "def sen_vec(sent):\n",
        "    words=sent.split(\" \")\n",
        "    l = []\n",
        "    for i in range(len(words)):\n",
        "        x=0\n",
        "        for j in range(len(brown_tagged_words_encoded)):\n",
        "            for k in range(len(brown_tagged_words_encoded[j])):\n",
        "                if(x==0 and words[i]==brown_tagged_words[j][k]):\n",
        "                    l.append(int(brown_tagged_words_encoded[j][k]))\n",
        "                    x=1\n",
        "                    break\n",
        "            if(x==1):\n",
        "                break\n",
        "    t=tf.convert_to_tensor(l)\n",
        "    t=tf.reshape(t, [1, t.shape[0]])\n",
        "    y = pad_sequences(t, maxlen=MAX_SEQ_LENGTH, padding=\"pre\", truncating=\"post\")\n",
        "    return y\n",
        "\n",
        "\n",
        ""
      ]
    },
    {
      "cell_type": "code",
      "execution_count": null,
      "metadata": {
        "id": "Qjnq1MVggiqL"
      },
      "outputs": [],
      "source": [
        "l=[]\n",
        "l=sen_vec(sentence)\n",
        "print(l.shape,l)"
      ]
    },
    {
      "cell_type": "code",
      "execution_count": null,
      "metadata": {
        "id": "-uEy3VhKgiqM"
      },
      "outputs": [],
      "source": [
        "dict={5:\"det\",1:\"noun\",7:\"adv\" ,2:\"verb\",4:\"adp\",6:\"adj\",3:\".\",9:\"conj\",8:\"pron\" ,10:\"prt\",11:\"num\",12:\"X\"}\n",
        ""
      ]
    },
    {
      "cell_type": "code",
      "execution_count": null,
      "metadata": {
        "id": "qUOdZof3giqM"
      },
      "outputs": [],
      "source": [
        "pred=network.predict(l)\n",
        "ans=[]\n",
        "x=sentence.split(\" \")\n",
        "start=MAX_SEQ_LENGTH-len(x)\n",
        "print(pred.shape)\n",
        "for i in range(start,MAX_SEQ_LENGTH):\n",
        "    indices = tf.argmax(pred[0][i])\n",
        "    c = tf.keras.backend.eval(indices)\n",
        "    ans.append(dict[c])\n",
        "print(ans)\n",
        ""
      ]
    },
    {
      "cell_type": "code",
      "execution_count": null,
      "metadata": {
        "id": "s3jXIRbLgiqM"
      },
      "outputs": [],
      "source": []
    }
  ],
  "metadata": {
    "colab": {
      "provenance": []
    },
    "kernelspec": {
      "display_name": "Python 3 (ipykernel)",
      "language": "python",
      "name": "python3"
    },
    "language_info": {
      "codemirror_mode": {
        "name": "ipython",
        "version": 3
      },
      "file_extension": ".py",
      "mimetype": "text/x-python",
      "name": "python",
      "nbconvert_exporter": "python",
      "pygments_lexer": "ipython3",
      "version": "3.9.12"
    }
  },
  "nbformat": 4,
  "nbformat_minor": 0
}